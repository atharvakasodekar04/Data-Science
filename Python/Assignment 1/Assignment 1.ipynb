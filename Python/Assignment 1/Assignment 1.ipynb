{
 "cells": [
  {
   "cell_type": "markdown",
   "id": "51164400-6c61-4715-91ba-34c1d6122c37",
   "metadata": {},
   "source": [
    "Q1. Create one variable containing following type of data:\n",
    "(i) string\n",
    "(ii) list\n",
    "(iii) float\n",
    "(iv) tuple"
   ]
  },
  {
   "cell_type": "code",
   "execution_count": 1,
   "id": "d4a4fde0-4a2f-4faa-9091-268744dc329c",
   "metadata": {},
   "outputs": [],
   "source": [
    "s = ['John', [3,4],14.5,(34,35)]"
   ]
  },
  {
   "cell_type": "markdown",
   "id": "8d8bb02a-cab6-4a27-ac9e-aeb4d7d804d6",
   "metadata": {},
   "source": [
    "Q2. Given are some following variables containing data:\n",
    "(i) var1 = ‘ ‘\n",
    "(ii) var2 = ‘[ DS , ML , Python]’\n",
    "(iii) var3 = [ ‘DS’ , ’ML’ , ‘Python’ ]\n",
    "(iv) var4 = 1.\n",
    "What will be the data type of the above given variable."
   ]
  },
  {
   "cell_type": "code",
   "execution_count": 16,
   "id": "47fb6011-5a20-4b45-a2d4-a384b5eb635a",
   "metadata": {},
   "outputs": [
    {
     "name": "stdout",
     "output_type": "stream",
     "text": [
      "<class 'str'>\n",
      "<class 'str'>\n",
      "<class 'list'>\n",
      "<class 'int'>\n"
     ]
    }
   ],
   "source": [
    "var1 = ''\n",
    "var2 = '[DS,ML,Python]'\n",
    "var3 = ['DS','ML','Python']\n",
    "var4 = 1\n",
    "\n",
    "print(type(var1))\n",
    "print(type(var2))\n",
    "print(type(var3))\n",
    "print(type(var4))"
   ]
  },
  {
   "cell_type": "markdown",
   "id": "09683320-6e62-4884-b918-a5893f852c94",
   "metadata": {},
   "source": [
    "Q3. Explain the use of the following operators using an example:\n",
    "(i) /\n",
    "(ii) %\n",
    "(iii) //\n",
    "(iv) **"
   ]
  },
  {
   "cell_type": "code",
   "execution_count": 27,
   "id": "d4b1f681-0a8b-430f-903b-6ed60c29eee5",
   "metadata": {},
   "outputs": [
    {
     "name": "stdout",
     "output_type": "stream",
     "text": [
      "2.0\n",
      "0\n",
      "2\n",
      "16\n"
     ]
    }
   ],
   "source": [
    "A = 4\n",
    "B = 2\n",
    "\n",
    "#using '/' performs divide operation\n",
    "C = A/B \n",
    "print(C)\n",
    "\n",
    "#using '%' performs mod operation\n",
    "D = A%B\n",
    "print(D)\n",
    "\n",
    "#using '//' performs only integer division\n",
    "E = A//B\n",
    "print(E)\n",
    "\n",
    "#using '**' performs power of operation\n",
    "F = A**B\n",
    "print(F)"
   ]
  },
  {
   "cell_type": "markdown",
   "id": "2ecd3555-9708-491a-9143-9e6481743394",
   "metadata": {},
   "source": [
    "Q4. Create a list of length 10 of your choice containing multiple types of data. Using for loop print the\n",
    "element and its data type."
   ]
  },
  {
   "cell_type": "code",
   "execution_count": 29,
   "id": "7362bb13-562f-4bfc-ba6f-9271dbfd1a33",
   "metadata": {},
   "outputs": [
    {
     "name": "stdout",
     "output_type": "stream",
     "text": [
      "Joe\n",
      "<class 'str'>\n",
      "34\n",
      "<class 'int'>\n",
      "3.25\n",
      "<class 'float'>\n",
      "(3+4j)\n",
      "<class 'complex'>\n",
      "(3, 4)\n",
      "<class 'tuple'>\n",
      "{10, 44}\n",
      "<class 'set'>\n"
     ]
    }
   ],
   "source": [
    "l = ['Joe', 34,3.25,3+4j,(3,4),{10,44}]\n",
    "for i in l:\n",
    "    print(i)\n",
    "    print(type(i))\n",
    "    "
   ]
  },
  {
   "cell_type": "markdown",
   "id": "bff0d9c8-d57d-405f-adf0-a98890b85677",
   "metadata": {},
   "source": [
    "Q5. Using a while loop, verify if the number A is purely divisible by number B and if so then how many\n",
    "times it can be divisible."
   ]
  },
  {
   "cell_type": "code",
   "execution_count": 3,
   "id": "1ba835fa-03a8-4243-83b0-7ac0aa328879",
   "metadata": {},
   "outputs": [
    {
     "name": "stdout",
     "output_type": "stream",
     "text": [
      "A is divisible by B and can be divided 1 times.\n"
     ]
    }
   ],
   "source": [
    "A = 36\n",
    "B = 4\n",
    "\n",
    "count = 0  # Counter to keep track of the number of divisions\n",
    "\n",
    "while A % B == 0:  # Check if A is divisible by B\n",
    "    A = A / B     # Divide A by B\n",
    "    count += 1    # Increment the count\n",
    "\n",
    "if count > 0:\n",
    "    print(f\"A is divisible by B and can be divided {count} times.\")\n",
    "else:\n",
    "    print(\"A is not divisible by B.\")"
   ]
  },
  {
   "cell_type": "markdown",
   "id": "845c6832-2b16-4a2e-9e5e-88a02f0a90f5",
   "metadata": {},
   "source": [
    "Q6. Create a list containing 25 int type data. Using for loop and if-else condition print if the element is\n",
    "divisible by 3 or not."
   ]
  },
  {
   "cell_type": "code",
   "execution_count": 6,
   "id": "9ce31896-b73b-4c8b-b2c2-1374d6045a57",
   "metadata": {},
   "outputs": [
    {
     "name": "stdout",
     "output_type": "stream",
     "text": [
      "32  is not divisible\n",
      "54 is divisible\n",
      "17  is not divisible\n",
      "79  is not divisible\n",
      "42 is divisible\n",
      "61  is not divisible\n",
      "95  is not divisible\n",
      "8  is not divisible\n",
      "88  is not divisible\n",
      "15 is divisible\n",
      "73  is not divisible\n",
      "2  is not divisible\n",
      "48 is divisible\n",
      "90 is divisible\n",
      "55  is not divisible\n",
      "11  is not divisible\n",
      "69 is divisible\n",
      "25  is not divisible\n",
      "37  is not divisible\n",
      "83  is not divisible\n",
      "12 is divisible\n",
      "59  is not divisible\n",
      "20  is not divisible\n",
      "67  is not divisible\n",
      "97  is not divisible\n"
     ]
    }
   ],
   "source": [
    "l = [32, 54, 17, 79, 42, 61, 95, 8, 88, 15, 73, 2, 48, 90, 55, 11, 69, 25, 37, 83, 12, 59, 20, 67, 97]\n",
    "for i in l:\n",
    "    if i%3==0:\n",
    "        print(i,\"is divisible\")\n",
    "    else:\n",
    "        print(i,\" is not divisible\")"
   ]
  },
  {
   "cell_type": "markdown",
   "id": "b0b37755-04d0-4b0f-ab58-bff4d820c74c",
   "metadata": {},
   "source": [
    "Q7. What do you understand about mutable and immutable data types? Give examples for both showing\n",
    "this property."
   ]
  },
  {
   "cell_type": "code",
   "execution_count": 7,
   "id": "9bee25a5-d5a8-4a95-a01b-847accc3c16e",
   "metadata": {},
   "outputs": [
    {
     "data": {
      "text/plain": [
       "['Roshan', 'Siddharth', 'Karan', 'Varun', 'Kamlesh']"
      ]
     },
     "execution_count": 7,
     "metadata": {},
     "output_type": "execute_result"
    }
   ],
   "source": [
    "#Mutable : Mutable means the data in which we can make changes (list,dict,set)\n",
    "student = ['Roshan', 'Siddharth', 'Atharva', 'Varun', 'Kamlesh']\n",
    "student[2] = 'Karan'  # here we change the 2 index element to Karan\n",
    "student    "
   ]
  },
  {
   "cell_type": "code",
   "execution_count": 12,
   "id": "70de6e73-d0bf-4e2a-a616-2ca736f1699a",
   "metadata": {},
   "outputs": [
    {
     "ename": "TypeError",
     "evalue": "'str' object does not support item assignment",
     "output_type": "error",
     "traceback": [
      "\u001b[0;31m---------------------------------------------------------------------------\u001b[0m",
      "\u001b[0;31mTypeError\u001b[0m                                 Traceback (most recent call last)",
      "Cell \u001b[0;32mIn[12], line 3\u001b[0m\n\u001b[1;32m      1\u001b[0m \u001b[38;5;66;03m# Immutable : Immutable means the data which we cannot change (int,float,str,tuple)\u001b[39;00m\n\u001b[1;32m      2\u001b[0m student \u001b[38;5;241m=\u001b[39m \u001b[38;5;124m'\u001b[39m\u001b[38;5;124mKaran\u001b[39m\u001b[38;5;124m'\u001b[39m\n\u001b[0;32m----> 3\u001b[0m \u001b[43mstudent\u001b[49m\u001b[43m[\u001b[49m\u001b[38;5;241;43m3\u001b[39;49m\u001b[43m]\u001b[49m\u001b[38;5;241m=\u001b[39m\u001b[38;5;124m'\u001b[39m\u001b[38;5;124mn\u001b[39m\u001b[38;5;124m'\u001b[39m  \u001b[38;5;66;03m# here we cannot change the data \u001b[39;00m\n\u001b[1;32m      4\u001b[0m student\n",
      "\u001b[0;31mTypeError\u001b[0m: 'str' object does not support item assignment"
     ]
    }
   ],
   "source": [
    "# Immutable : Immutable means the data which we cannot change (int,float,str,tuple)\n",
    "student = 'Karan'\n",
    "student[3]='n'  # here we cannot change the data \n",
    "student"
   ]
  },
  {
   "cell_type": "code",
   "execution_count": null,
   "id": "e9604378-03aa-40ba-8484-90c2cfd165be",
   "metadata": {},
   "outputs": [],
   "source": []
  }
 ],
 "metadata": {
  "kernelspec": {
   "display_name": "Python 3 (ipykernel)",
   "language": "python",
   "name": "python3"
  },
  "language_info": {
   "codemirror_mode": {
    "name": "ipython",
    "version": 3
   },
   "file_extension": ".py",
   "mimetype": "text/x-python",
   "name": "python",
   "nbconvert_exporter": "python",
   "pygments_lexer": "ipython3",
   "version": "3.10.8"
  }
 },
 "nbformat": 4,
 "nbformat_minor": 5
}
